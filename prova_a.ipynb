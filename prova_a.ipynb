{
 "cells": [
  {
   "cell_type": "code",
   "execution_count": null,
   "id": "ee520421-36d4-4682-8eea-963e9cf81025",
   "metadata": {},
   "outputs": [
    {
     "name": "stdout",
     "output_type": "stream",
     "text": [
      "70\n",
      "<function uso_maximo at 0x000001653CC38A40>\n"
     ]
    }
   ],
   "source": [
    "#1 Considerando a matriz abaixo, crie uma função chamada uso_maximo()\n",
    "#que receba como parâmetro uma lista com os valores de uso de CPU de uma região\n",
    "#e retorne o valor máximo de uso. Teste essa função para cada região da matriz.\n",
    "uso_cpu = [\n",
    "    [20, 25, 40, 50, 45, 60, 55, 35, 70, 65],\n",
    "    [30, 35, 50, 60, 40, 55, 60, 45, 50, 55],\n",
    "    [15, 20, 30, 25, 35, 40, 45, 50, 55, 60],\n",
    "    [10, 15, 25, 35, 45, 50, 55, 60, 65, 70],\n",
    "    ]\n",
    "\n",
    "def uso_maximo(matriz):\n",
    "    maximo = matriz[0][0]  \n",
    "    for linha in matriz:\n",
    "        for elemento in linha:\n",
    "            if elemento > maximo:\n",
    "                maximo = elemento\n",
    "    return maximo\n",
    "\n",
    "valor_maximo = uso_maximo(uso_cpu)\n",
    "print(valor_maximo)\n",
    "print(uso_maximo)\n",
    "    "
   ]
  },
  {
   "cell_type": "code",
   "execution_count": null,
   "id": "b80cf359-ed80-4bb3-a31c-399dd236dcde",
   "metadata": {},
   "outputs": [
    {
     "name": "stdout",
     "output_type": "stream",
     "text": [
      "5\n",
      "6\n",
      "5\n",
      "6\n"
     ]
    }
   ],
   "source": [
    "# Crie uma função chamada acima_da_media() que receba uma lista com os dados de uma região e retorne quantos valores estão acima da média daquela região. Teste a função para todas as regiões da matriz.\n",
    "\n",
    "def acima_da_media(regiao):\n",
    "    media = sum(regiao) / len(regiao)\n",
    "    acima_da_media = len([valor for valor in regiao if valor > media])\n",
    "    return acima_da_media\n",
    "\n",
    "print(acima_da_media(uso_cpu[0]))\n",
    "print(acima_da_media(uso_cpu[1]))\n",
    "print(acima_da_media(uso_cpu[2]))\n",
    "print(acima_da_media(uso_cpu[3]))"
   ]
  },
  {
   "cell_type": "code",
   "execution_count": null,
   "id": "bd13b697-ee2b-4bc0-b528-4211077af769",
   "metadata": {},
   "outputs": [
    {
     "name": "stdout",
     "output_type": "stream",
     "text": [
      "[20, 25, 35, 40, 45, 50, 55, 60, 65, 70]\n",
      "[30, 35, 40, 45, 50, 50, 55, 55, 60, 60]\n",
      "[15, 20, 25, 30, 35, 40, 45, 50, 55, 60]\n",
      "[10, 15, 25, 35, 45, 50, 55, 60, 65, 70]\n"
     ]
    }
   ],
   "source": [
    "#Crie uma função chamada dados_decrescente que recebe como parâmetro uma lista com os valores de uso de CPU de uma região. A função deve retornar a lista organizada em ordem decrescente, do menor uso de CPU para o maior. Teste a função para todas as regiões da matriz\n",
    "\n",
    "def dados_decrescente(regiao):\n",
    "  return sorted(regiao, reverse=False)\n",
    "\n",
    "print(dados_decrescente(uso_cpu[0]))\n",
    "print(dados_decrescente(uso_cpu[1]))\n",
    "print(dados_decrescente(uso_cpu[2]))\n",
    "print(dados_decrescente(uso_cpu[3]))"
   ]
  },
  {
   "cell_type": "code",
   "execution_count": null,
   "id": "59798bcc-531b-4ea6-a45b-707c40a65f89",
   "metadata": {},
   "outputs": [
    {
     "name": "stdout",
     "output_type": "stream",
     "text": [
      "              hora_1  hora_2  hora_3  hora_4  hora_5  hora_6  hora_7  hora_8  \\\n",
      "us-east-1         20      25      40      50      45      60      55      35   \n",
      "us-west-2         30      35      50      60      40      55      60      45   \n",
      "eu-central-1      15      20      30      25      35      40      45      50   \n",
      "sa-east-1         10      15      25      35      45      50      55      60   \n",
      "\n",
      "              hora_9  hora_10  uso_médio  \n",
      "us-east-1         70       65       46.5  \n",
      "us-west-2         50       55       48.0  \n",
      "eu-central-1      55       60       37.5  \n",
      "sa-east-1         65       70       43.0  \n"
     ]
    }
   ],
   "source": [
    "import pandas as pd\n",
    "\n",
    "uso_cpu = [\n",
    "    [20, 25, 40, 50, 45, 60, 55, 35, 70, 65],\n",
    "    [30, 35, 50, 60, 40, 55, 60, 45, 50, 55],\n",
    "    [15, 20, 30, 25, 35, 40, 45, 50, 55, 60],\n",
    "    [10, 15, 25, 35, 45, 50, 55, 60, 65, 70],\n",
    "    ]\n",
    "\n",
    "regioes = [\"hora_1\", \"hora_2\", \"hora_3\", \"hora_4\", \"hora_5\", \"hora_6\", \"hora_7\", \"hora_8\", \"hora_9\", \"hora_10\"]  \n",
    "linhas = [\"us-east-1\", \"us-west-2\", \"eu-central-1\", \"sa-east-1\" ]\n",
    "\n",
    "df = pd.DataFrame(uso_cpu, index=linhas, columns=regioes)\n",
    "df[\"uso_médio\"] = df[regioes].mean(axis=1)\n",
    "print(df)"
   ]
  },
  {
   "cell_type": "code",
   "execution_count": null,
   "id": "f68882ef-697e-4b0b-b425-eff5caa22888",
   "metadata": {},
   "outputs": [],
   "source": []
  }
 ],
 "metadata": {
  "kernelspec": {
   "display_name": "Python 3 (ipykernel)",
   "language": "python",
   "name": "python3"
  },
  "language_info": {
   "codemirror_mode": {
    "name": "ipython",
    "version": 3
   },
   "file_extension": ".py",
   "mimetype": "text/x-python",
   "name": "python",
   "nbconvert_exporter": "python",
   "pygments_lexer": "ipython3",
   "version": "3.12.7"
  }
 },
 "nbformat": 4,
 "nbformat_minor": 5
}
